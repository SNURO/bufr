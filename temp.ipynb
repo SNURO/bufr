{
 "cells": [
  {
   "cell_type": "code",
   "execution_count": 26,
   "metadata": {},
   "outputs": [],
   "source": [
    "from lib.data_utils import *\n",
    "from torch.utils.data import DataLoader, Subset"
   ]
  },
  {
   "cell_type": "code",
   "execution_count": 27,
   "metadata": {},
   "outputs": [
    {
     "ename": "TypeError",
     "evalue": "get_cifar10_dataloaders() got an unexpected keyword argument 'class_idx'",
     "output_type": "error",
     "traceback": [
      "\u001b[0;31m---------------------------------------------------------------------------\u001b[0m",
      "\u001b[0;31mTypeError\u001b[0m                                 Traceback (most recent call last)",
      "Cell \u001b[0;32mIn[27], line 1\u001b[0m\n\u001b[0;32m----> 1\u001b[0m dataloader, _, _ \u001b[39m=\u001b[39m get_cifar10_dataloaders(\u001b[39m'\u001b[39;49m\u001b[39m/gallery_tate/wonjae.roh/\u001b[39;49m\u001b[39m'\u001b[39;49m, \u001b[39m200\u001b[39;49m, \u001b[39mTrue\u001b[39;49;00m,\n\u001b[1;32m      2\u001b[0m                                                    \u001b[39m4\u001b[39;49m, \u001b[39mTrue\u001b[39;49;00m, train_split\u001b[39m=\u001b[39;49m\u001b[39m1.\u001b[39;49m,\n\u001b[1;32m      3\u001b[0m                                                    normalize\u001b[39m=\u001b[39;49m\u001b[39mTrue\u001b[39;49;00m, class_idx \u001b[39m=\u001b[39;49m \u001b[39m0\u001b[39;49m)                                                 \n",
      "\u001b[0;31mTypeError\u001b[0m: get_cifar10_dataloaders() got an unexpected keyword argument 'class_idx'"
     ]
    }
   ],
   "source": [
    "dataloader, _, _ = get_cifar10_dataloaders('/gallery_tate/wonjae.roh/', 200, True,\n",
    "                                                   4, True, train_split=1.,\n",
    "                                                   normalize=True, class_idx = 0)                                                 "
   ]
  },
  {
   "cell_type": "code",
   "execution_count": 3,
   "metadata": {},
   "outputs": [],
   "source": [
    "c_loader, _ = get_cifar10c_dataloaders('/gallery_tate/wonjae.roh/', \"gaussian_noise\",5, 200, False,\n",
    "                                                   4, True, train_split=1.,\n",
    "                                                   normalize=True) "
   ]
  },
  {
   "cell_type": "code",
   "execution_count": 4,
   "metadata": {},
   "outputs": [
    {
     "name": "stdout",
     "output_type": "stream",
     "text": [
      "Files already downloaded and verified\n"
     ]
    }
   ],
   "source": [
    "dataset_path = '/gallery_tate/wonjae.roh/'\n",
    "ds_path = os.path.join(dataset_path, \"CIFAR-10\")\n",
    "\n",
    "# Create transforms\n",
    "train_transforms = [\n",
    "    transforms.RandomCrop(32, padding=4),\n",
    "    transforms.RandomHorizontalFlip(),\n",
    "    transforms.ToTensor()\n",
    "]\n",
    "test_transforms = [transforms.ToTensor()]\n",
    "if normalize:\n",
    "    norm = transforms.Normalize(CIFAR10_MEAN, CIFAR10_STD)\n",
    "    train_transforms.append(norm)\n",
    "    test_transforms.append(norm)\n",
    "\n",
    "transform_train = transforms.Compose(train_transforms)\n",
    "transform_test = transforms.Compose(test_transforms)\n",
    "\n",
    "tr_ds = torchvision.datasets.CIFAR10(ds_path, train=True, transform=transform_train, download=True)"
   ]
  },
  {
   "cell_type": "code",
   "execution_count": 5,
   "metadata": {},
   "outputs": [
    {
     "name": "stdout",
     "output_type": "stream",
     "text": [
      "(50000, 32, 32, 3)\n"
     ]
    }
   ],
   "source": [
    "print(tr_ds.data.shape)\n",
    "tr_ds.targets\n",
    "\n",
    "total_loader = DataLoader(tr_ds, batch_size=200)"
   ]
  },
  {
   "cell_type": "code",
   "execution_count": null,
   "metadata": {},
   "outputs": [],
   "source": [
    "x,y = next(iter(total_loader))\n",
    "x.shape"
   ]
  }
 ],
 "metadata": {
  "kernelspec": {
   "display_name": "TENT",
   "language": "python",
   "name": "python3"
  },
  "language_info": {
   "codemirror_mode": {
    "name": "ipython",
    "version": 3
   },
   "file_extension": ".py",
   "mimetype": "text/x-python",
   "name": "python",
   "nbconvert_exporter": "python",
   "pygments_lexer": "ipython3",
   "version": "3.8.16"
  },
  "orig_nbformat": 4
 },
 "nbformat": 4,
 "nbformat_minor": 2
}
